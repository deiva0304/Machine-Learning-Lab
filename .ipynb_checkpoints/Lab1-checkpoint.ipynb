{
 "cells": [
  {
   "cell_type": "markdown",
   "id": "21e0de22",
   "metadata": {},
   "source": [
    "Program 1: To count the number of vowels and consonants present in input string"
   ]
  },
  {
   "cell_type": "code",
   "execution_count": 2,
   "id": "0445dc7c",
   "metadata": {},
   "outputs": [],
   "source": [
    "def count_vowel(string: str) -> int:\n",
    "    vowel = ['a', 'e', 'i', 'o', 'u']\n",
    "    return sum([1 for char in string.lower() if char in vowel])\n",
    "def count_consonants(string: str) -> int:\n",
    "    vowel = ['a', 'e', 'i', 'o', 'u']\n",
    "    return sum([1 for char in string.lower() if char not in vowel])\n",
    "def count_vowels_consonants(string: str):\n",
    "    print(\"Number of vowels in the string:\", count_vowel(string))\n",
    "    print(\"Number of consonants in the string:\", count_consonants(string))"
   ]
  },
  {
   "cell_type": "code",
   "execution_count": 3,
   "id": "d88ad90a",
   "metadata": {},
   "outputs": [
    {
     "name": "stdout",
     "output_type": "stream",
     "text": [
      "Number of vowels in the string: 2\n",
      "Number of consonants in the string: 3\n"
     ]
    }
   ],
   "source": [
    "count_vowels_consonants(\"Hello\")"
   ]
  },
  {
   "cell_type": "markdown",
   "id": "cc266a69",
   "metadata": {},
   "source": [
    "Program 2: Two matrices A and B as input and returns their product AB. Check if they are multipliable if not return error                  message"
   ]
  },
  {
   "cell_type": "code",
   "execution_count": 4,
   "id": "8027ba87",
   "metadata": {},
   "outputs": [],
   "source": [
    "def check_matrix(matrix) -> bool:\n",
    "    row = len(matrix)\n",
    "    flag = 0\n",
    "    col = len(matrix[0])\n",
    "    for row in matrix:\n",
    "        if len(row) != col:\n",
    "            flag = 1\n",
    "            break      \n",
    "    if flag == 1:\n",
    "        return False\n",
    "    return True\n",
    "\n",
    "def matrix_multiply(matrixA, matrixB):\n",
    "    if not (check_matrix(matrixA) and check_matrix(matrixB)):\n",
    "        print(\"Given input is not a matrix\")\n",
    "        return None\n",
    "    if len(matrixA[0]) != len(matrixB):\n",
    "        print(\"Matrices cannot be multiplied\")\n",
    "        return None\n",
    "    result_matrix = [[0 for _ in range(len(matrixB[0]))] for _ in range(len(matrixA))]\n",
    "    for i in range(len(matrixA)):\n",
    "        for j in range(len(matrixB[0])):\n",
    "            for k in range(len(matrixB)):\n",
    "                result_matrix[i][j] += matrixA[i][k] * matrixB[k][j]\n",
    "    return result_matrix"
   ]
  },
  {
   "cell_type": "code",
   "execution_count": 5,
   "id": "a276f1f5",
   "metadata": {},
   "outputs": [
    {
     "data": {
      "text/plain": [
       "[[300, 360, 420], [540, 660, 780], [900, 1110, 1320]]"
      ]
     },
     "execution_count": 5,
     "metadata": {},
     "output_type": "execute_result"
    }
   ],
   "source": [
    "matrix_multiply([[1,2,3],[3,4,5],[6,7,8]], [[10,20,30],[40,50,60],[70,80,90]])"
   ]
  },
  {
   "cell_type": "code",
   "execution_count": 6,
   "id": "8735e4be",
   "metadata": {},
   "outputs": [
    {
     "name": "stdout",
     "output_type": "stream",
     "text": [
      "Given input is not a matrix\n"
     ]
    }
   ],
   "source": [
    "matrix_multiply([[1,2,3],[3,4,5],[6,7,8]], [[10,20,30],[40,50,60],[70,90]])"
   ]
  },
  {
   "cell_type": "code",
   "execution_count": 7,
   "id": "8f95e1e5",
   "metadata": {},
   "outputs": [
    {
     "name": "stdout",
     "output_type": "stream",
     "text": [
      "Matrices cannot be multiplied\n"
     ]
    }
   ],
   "source": [
    "matrix_multiply([[1,2,3],[3,4,5],[6,7,8]], [[40,50],[70,90]])"
   ]
  },
  {
   "cell_type": "markdown",
   "id": "6bad0875",
   "metadata": {},
   "source": [
    "Program 3: Number of common elements between two lists of integers. "
   ]
  },
  {
   "cell_type": "code",
   "execution_count": 8,
   "id": "55091240",
   "metadata": {},
   "outputs": [],
   "source": [
    "def common_ele(a: list, b: list):\n",
    "    return sum([1 for element in a if element in b])"
   ]
  },
  {
   "cell_type": "code",
   "execution_count": 9,
   "id": "c8c9d4c2",
   "metadata": {},
   "outputs": [
    {
     "data": {
      "text/plain": [
       "3"
      ]
     },
     "execution_count": 9,
     "metadata": {},
     "output_type": "execute_result"
    }
   ],
   "source": [
    "common_ele([1,2,3,4,5, 6],[2,6,7,3,6,44,55])"
   ]
  },
  {
   "cell_type": "markdown",
   "id": "ed3cbfc1",
   "metadata": {},
   "source": [
    "Program 4: Transpose of a given matrix"
   ]
  },
  {
   "cell_type": "code",
   "execution_count": 10,
   "id": "5e4057e1",
   "metadata": {},
   "outputs": [],
   "source": [
    "def check_matrix(matrix) -> bool:\n",
    "    row = len(matrix)\n",
    "    flag = 0\n",
    "    col = len(matrix[0])\n",
    "    for row in matrix:\n",
    "        if len(row) != col:\n",
    "            flag = 1\n",
    "            break\n",
    "    if flag == 1:\n",
    "        return False\n",
    "    return True\n",
    "def transpose(matrix):\n",
    "    if not check_matrix(matrix):\n",
    "        print(\"Given input is not a matrix\")\n",
    "        return None\n",
    "    rows = len(matrix)\n",
    "    cols = len(matrix[0])\n",
    "    transpose = [[0 for _ in range(rows)] for _ in range(cols)]\n",
    "    for i in range(rows):\n",
    "        for j in range(cols):\n",
    "            transpose[i][j] = matrix[j][i]\n",
    "    return transpose"
   ]
  },
  {
   "cell_type": "code",
   "execution_count": 11,
   "id": "07c44f89",
   "metadata": {},
   "outputs": [
    {
     "data": {
      "text/plain": [
       "[[11, 44, 77], [22, 55, 88], [33, 66, 99]]"
      ]
     },
     "execution_count": 11,
     "metadata": {},
     "output_type": "execute_result"
    }
   ],
   "source": [
    "transpose([[11,22,33],[44,55,66],[77,88,99]])"
   ]
  },
  {
   "cell_type": "code",
   "execution_count": 12,
   "id": "9c34b853",
   "metadata": {},
   "outputs": [
    {
     "name": "stdout",
     "output_type": "stream",
     "text": [
      "Given input is not a matrix\n"
     ]
    }
   ],
   "source": [
    "transpose([[0,2],[1,2,3]])"
   ]
  }
 ],
 "metadata": {
  "kernelspec": {
   "display_name": "Python 3 (ipykernel)",
   "language": "python",
   "name": "python3"
  },
  "language_info": {
   "codemirror_mode": {
    "name": "ipython",
    "version": 3
   },
   "file_extension": ".py",
   "mimetype": "text/x-python",
   "name": "python",
   "nbconvert_exporter": "python",
   "pygments_lexer": "ipython3",
   "version": "3.11.5"
  }
 },
 "nbformat": 4,
 "nbformat_minor": 5
}
