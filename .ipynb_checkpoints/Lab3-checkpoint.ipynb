{
 "cells": [
  {
   "cell_type": "code",
   "execution_count": 41,
   "metadata": {
    "colab": {
     "base_uri": "https://localhost:8080/"
    },
    "id": "jzwzukz7thBQ",
    "outputId": "7fcf1f09-bb0c-43d1-8f3a-1616ffd130fe"
   },
   "outputs": [
    {
     "name": "stdout",
     "output_type": "stream",
     "text": [
      "Index(['Age', 'Gender', 'Race', 'BMI', 'Smoking', 'Heavy Drinking',\n",
      "       'Sleep Duration (Hours)', 'Arthritis', 'Liver Condition',\n",
      "       'Parental Osteoporosis', 'Osteoporosis'],\n",
      "      dtype='object')\n"
     ]
    }
   ],
   "source": [
    "import pandas as pd\n",
    "import numpy as np\n",
    "\n",
    "# Load the dataset\n",
    "df = pd.read_csv('cleaned_survey.csv')\n",
    "\n",
    "# Display the first few rows and column names\n",
    "print(df.columns)"
   ]
  },
  {
   "cell_type": "code",
   "execution_count": 42,
   "metadata": {
    "colab": {
     "base_uri": "https://localhost:8080/"
    },
    "id": "AanXxR4FtwYo",
    "outputId": "4528ece2-f88a-4502-fc61-2670e094e667"
   },
   "outputs": [
    {
     "name": "stdout",
     "output_type": "stream",
     "text": [
      "Features: ['Age', 'BMI', 'Sleep Duration (Hours)', 'Gender_Female', 'Gender_Male', 'Race_Mexican American', 'Race_Non-Hispanic Asian', 'Race_Non-Hispanic Black', 'Race_Non-Hispanic White', 'Race_Other Hispanic', 'Race_Other Race - Including Multi-Racial', 'Smoking_No', 'Smoking_Yes', 'Heavy Drinking_No', 'Heavy Drinking_Yes', 'Arthritis_No', 'Arthritis_Yes', 'Liver Condition_No', 'Liver Condition_Yes', 'Parental Osteoporosis_No', 'Parental Osteoporosis_Yes']\n",
      "Target: Osteoporosis\n"
     ]
    }
   ],
   "source": [
    "from sklearn.preprocessing import OneHotEncoder\n",
    "\n",
    "# Load the dataset\n",
    "df = pd.read_csv('cleaned_survey.csv')\n",
    "\n",
    "# Identify target and features\n",
    "target_name = 'Osteoporosis'\n",
    "features = df.drop(columns=[target_name])\n",
    "target = df[target_name]\n",
    "\n",
    "# One-hot encode categorical variables\n",
    "features_encoded = pd.get_dummies(features)\n",
    "\n",
    "\n",
    "# Display the feature and target information\n",
    "print(f\"Features: {features_encoded.columns.tolist()}\")\n",
    "print(f\"Target: {target_name}\")\n"
   ]
  },
  {
   "cell_type": "code",
   "execution_count": 43,
   "metadata": {
    "colab": {
     "base_uri": "https://localhost:8080/"
    },
    "id": "Dp8rUs_ptH-H",
    "outputId": "d2135c3b-cbda-4724-ae0f-a6888528f373"
   },
   "outputs": [
    {
     "name": "stdout",
     "output_type": "stream",
     "text": [
      "Unique classes in the 'Osteoporosis' column: ['No' 'Yes']\n",
      "Unique classes in the 'Sleep Duration (Hours)' column: [ 7.   9.   8.   5.   6.  10.   4.   3.  11.   9.5  4.5  8.5 10.5  7.5\n",
      "  6.5  5.5  3.5]\n"
     ]
    }
   ],
   "source": [
    "import pandas as pd\n",
    "df = pd.read_csv('cleaned_survey.csv')\n",
    "unique_classes = df['Osteoporosis'].unique()\n",
    "print(\"Unique classes in the 'Osteoporosis' column:\", unique_classes)\n",
    "unique_classes = df['Sleep Duration (Hours)'].unique()\n",
    "print(\"Unique classes in the 'Sleep Duration (Hours)' column:\", unique_classes)"
   ]
  },
  {
   "cell_type": "code",
   "execution_count": 44,
   "metadata": {
    "colab": {
     "base_uri": "https://localhost:8080/"
    },
    "id": "1gonFc3kvDae",
    "outputId": "8d836255-b37f-487e-aae8-85635ab5e24b"
   },
   "outputs": [
    {
     "name": "stdout",
     "output_type": "stream",
     "text": [
      "Class Means: {7.0: Age    60.455882\n",
      "BMI    29.011111\n",
      "dtype: float64, 9.0: Age    65.548736\n",
      "BMI    29.001805\n",
      "dtype: float64, 8.0: Age    62.625291\n",
      "BMI    28.796587\n",
      "dtype: float64, 5.0: Age    58.847458\n",
      "BMI    29.423164\n",
      "dtype: float64, 6.0: Age    59.003356\n",
      "BMI    29.292953\n",
      "dtype: float64, 10.0: Age    65.903553\n",
      "BMI    28.630457\n",
      "dtype: float64, 4.0: Age    58.682081\n",
      "BMI    29.639306\n",
      "dtype: float64, 3.0: Age    59.631579\n",
      "BMI    30.278947\n",
      "dtype: float64, 11.0: Age    66.695652\n",
      "BMI    30.711594\n",
      "dtype: float64, 9.5: Age    66.990826\n",
      "BMI    29.100000\n",
      "dtype: float64, 4.5: Age    64.333333\n",
      "BMI    30.110000\n",
      "dtype: float64, 8.5: Age    66.320833\n",
      "BMI    29.919583\n",
      "dtype: float64, 10.5: Age    69.314286\n",
      "BMI    28.882857\n",
      "dtype: float64, 7.5: Age    63.607784\n",
      "BMI    29.027844\n",
      "dtype: float64, 6.5: Age    62.072816\n",
      "BMI    30.262621\n",
      "dtype: float64, 5.5: Age    63.563380\n",
      "BMI    29.849296\n",
      "dtype: float64, 3.5: Age    62.642857\n",
      "BMI    29.371429\n",
      "dtype: float64}\n",
      "Class Spreads: {7.0: Age    10.558393\n",
      "BMI     5.623965\n",
      "dtype: float64, 9.0: Age    10.200803\n",
      "BMI     5.745878\n",
      "dtype: float64, 8.0: Age    11.016645\n",
      "BMI     5.594480\n",
      "dtype: float64, 5.0: Age    11.126336\n",
      "BMI     6.149417\n",
      "dtype: float64, 6.0: Age    10.934550\n",
      "BMI     5.913083\n",
      "dtype: float64, 10.0: Age    10.309785\n",
      "BMI     5.977704\n",
      "dtype: float64, 4.0: Age    9.931016\n",
      "BMI    5.820679\n",
      "dtype: float64, 3.0: Age    9.732701\n",
      "BMI    6.813387\n",
      "dtype: float64, 11.0: Age    8.969400\n",
      "BMI    6.379852\n",
      "dtype: float64, 9.5: Age    9.22205\n",
      "BMI    5.38752\n",
      "dtype: float64, 4.5: Age    8.603661\n",
      "BMI    5.294197\n",
      "dtype: float64, 8.5: Age    8.672154\n",
      "BMI    6.044866\n",
      "dtype: float64, 10.5: Age    9.892872\n",
      "BMI    6.364307\n",
      "dtype: float64, 7.5: Age    9.112843\n",
      "BMI    5.477788\n",
      "dtype: float64, 6.5: Age    8.305129\n",
      "BMI    6.252360\n",
      "dtype: float64, 5.5: Age    8.720636\n",
      "BMI    6.021625\n",
      "dtype: float64, 3.5: Age    8.634521\n",
      "BMI    5.969851\n",
      "dtype: float64}\n",
      "Interclass Distances: {(7.0, 9.0): 5.092862611519134, (7.0, 8.0): 2.179989530472422, (7.0, 5.0): 1.6603666918822404, (7.0, 6.0): 1.4796176957371054, (7.0, 10.0): 5.46095380004947, (7.0, 4.0): 1.8817547063769817, (7.0, 3.0): 1.5122449800837574, (7.0, 11.0): 6.467330992315635, (7.0, 9.5): 6.5355478445159445, (7.0, 4.5): 4.030159165029038, (7.0, 8.5): 5.934894420371133, (7.0, 10.5): 8.859331757680891, (7.0, 7.5): 3.1519464955057335, (7.0, 6.5): 2.044688439121235, (7.0, 5.5): 3.218555096214356, (7.0, 3.5): 2.2164583018720725, (9.0, 7.0): 5.092862611519134, (9.0, 8.0): 2.930639601416495, (9.0, 5.0): 6.71451273377465, (9.0, 6.0): 6.551852898026933, (9.0, 10.0): 0.513609262722758, (9.0, 4.0): 6.896184900362019, (9.0, 3.0): 6.053416022789875, (9.0, 11.0): 2.0588333063146353, (9.0, 9.5): 1.4454285119217922, (9.0, 4.5): 1.6447798647249943, (9.0, 8.5): 1.1993542213689536, (9.0, 10.5): 3.7674274745884624, (9.0, 7.5): 1.9411266907107323, (9.0, 6.5): 3.6975240436852372, (9.0, 5.5): 2.1586754467484215, (9.0, 3.5): 2.9292927751407483, (8.0, 7.0): 2.179989530472422, (8.0, 9.0): 2.930639601416495, (8.0, 5.0): 3.829441679509111, (8.0, 6.0): 3.655789168996642, (8.0, 10.0): 3.282469081028301, (8.0, 4.0): 4.032255181503761, (8.0, 3.0): 3.340614484640679, (8.0, 11.0): 4.498343607267058, (8.0, 9.5): 4.376065988376646, (8.0, 4.5): 2.1546377639297583, (8.0, 8.5): 3.862402825986008, (8.0, 10.5): 6.689551101444692, (8.0, 7.5): 1.0093431863998783, (8.0, 6.5): 1.5666803313806092, (8.0, 5.5): 1.4100384601134317, (8.0, 3.5): 0.5751104048959448, (5.0, 7.0): 1.6603666918822404, (5.0, 9.0): 6.71451273377465, (5.0, 8.0): 3.829441679509111, (5.0, 6.0): 0.2031232844207445, (5.0, 10.0): 7.100483822115669, (5.0, 4.0): 0.27215260631160665, (5.0, 3.0): 1.1606944857681833, (5.0, 11.0): 7.953251563965115, (5.0, 9.5): 8.149777803402378, (5.0, 4.5): 5.528704746343084, (5.0, 8.5): 7.489844908795266, (5.0, 10.5): 10.48076435834909, (5.0, 7.5): 4.776713180860081, (5.0, 6.5): 3.332810008221592, (5.0, 5.5): 4.735136207976137, (5.0, 3.5): 3.79575210232034, (6.0, 7.0): 1.4796176957371054, (6.0, 9.0): 6.551852898026933, (6.0, 8.0): 3.655789168996642, (6.0, 5.0): 0.2031232844207445, (6.0, 10.0): 6.93192816025597, (6.0, 4.0): 0.4724173145407295, (6.0, 3.0): 1.1691233029432353, (6.0, 11.0): 7.822018139568164, (6.0, 9.5): 7.989800222990693, (6.0, 4.5): 5.3922376884797085, (6.0, 8.5): 7.344259281574886, (6.0, 10.5): 10.319082143833166, (6.0, 7.5): 4.612054479765199, (6.0, 6.5): 3.2189812567660696, (6.0, 5.5): 4.5938373287777985, (6.0, 3.5): 3.6403473914605358, (10.0, 7.0): 5.46095380004947, (10.0, 9.0): 0.513609262722758, (10.0, 8.0): 3.282469081028301, (10.0, 5.0): 7.100483822115669, (10.0, 6.0): 6.93192816025597, (10.0, 4.0): 7.2916006872683505, (10.0, 3.0): 6.484996781326898, (10.0, 11.0): 2.226780927003709, (10.0, 9.5): 1.184327663301326, (10.0, 4.5): 2.1574611622402573, (10.0, 8.5): 1.3549795974388308, (10.0, 10.5): 3.420058700044046, (10.0, 7.5): 2.329908043066805, (10.0, 6.5): 4.163953986798232, (10.0, 5.5): 2.6385560578999994, (10.0, 3.5): 3.343826926399637, (4.0, 7.0): 1.8817547063769817, (4.0, 9.0): 6.896184900362019, (4.0, 8.0): 4.032255181503761, (4.0, 5.0): 0.27215260631160665, (4.0, 6.0): 0.4724173145407295, (4.0, 10.0): 7.2916006872683505, (4.0, 3.0): 1.1448524431036387, (4.0, 11.0): 8.084993839528938, (4.0, 9.5): 8.326229091761272, (4.0, 4.5): 5.670820600987713, (4.0, 8.5): 7.643892564702508, (4.0, 10.5): 10.659080359020212, (4.0, 7.5): 4.963510941533999, (4.0, 6.5): 3.4475502577617454, (4.0, 5.5): 4.885814053561422, (4.0, 3.5): 3.9698245248159645, (3.0, 7.0): 1.5122449800837574, (3.0, 9.0): 6.053416022789875, (3.0, 8.0): 3.340614484640679, (3.0, 5.0): 1.1606944857681833, (3.0, 6.0): 1.1691233029432353, (3.0, 10.0): 6.484996781326898, (3.0, 4.0): 1.1448524431036387, (3.0, 11.0): 7.077309787862054, (3.0, 9.5): 7.4530818785307735, (3.0, 4.5): 4.704788785826275, (3.0, 8.5): 6.69890041349067, (3.0, 10.5): 9.782835900290934, (3.0, 7.5): 4.168389246279846, (3.0, 6.5): 2.4412911768959744, (3.0, 5.5): 3.955206976203132, (3.0, 3.5): 3.145057509413864, (11.0, 7.0): 6.467330992315635, (11.0, 9.0): 2.0588333063146353, (11.0, 8.0): 4.498343607267058, (11.0, 5.0): 7.953251563965115, (11.0, 6.0): 7.822018139568164, (11.0, 10.0): 2.226780927003709, (11.0, 4.0): 8.084993839528938, (11.0, 3.0): 7.077309787862054, (11.0, 9.5): 1.638402660605126, (11.0, 4.5): 2.4377173522619557, (11.0, 8.5): 0.876225074260588, (11.0, 10.5): 3.193981974516074, (11.0, 7.5): 3.5170926763550567, (11.0, 6.5): 4.644587733465688, (11.0, 5.5): 3.2487975908285214, (11.0, 3.5): 4.268628759159636, (9.5, 7.0): 6.5355478445159445, (9.5, 9.0): 1.4454285119217922, (9.5, 8.0): 4.376065988376646, (9.5, 5.0): 8.149777803402378, (9.5, 6.0): 7.989800222990693, (9.5, 10.0): 1.184327663301326, (9.5, 4.0): 8.326229091761272, (9.5, 3.0): 7.4530818785307735, (9.5, 11.0): 1.638402660605126, (9.5, 4.5): 2.8429501605729777, (9.5, 8.5): 1.0585870751562605, (9.5, 10.5): 2.333584691802444, (9.5, 7.5): 3.383810661004772, (9.5, 6.5): 5.053564316468355, (9.5, 5.5): 3.508393673982846, (9.5, 3.5): 4.35643247848256, (4.5, 7.0): 4.030159165029038, (4.5, 9.0): 1.6447798647249943, (4.5, 8.0): 2.1546377639297583, (4.5, 5.0): 5.528704746343084, (4.5, 6.0): 5.3922376884797085, (4.5, 10.0): 2.1574611622402573, (4.5, 4.0): 5.670820600987713, (4.5, 3.0): 4.704788785826275, (4.5, 11.0): 2.4377173522619557, (4.5, 9.5): 2.8429501605729777, (4.5, 8.5): 1.9966008005969778, (4.5, 10.5): 5.129889493269033, (4.5, 7.5): 1.302874569517667, (4.5, 6.5): 2.2656641411475253, (4.5, 5.5): 0.8128926096669221, (4.5, 3.5): 1.8447757331634975, (8.5, 7.0): 5.934894420371133, (8.5, 9.0): 1.1993542213689536, (8.5, 8.0): 3.862402825986008, (8.5, 5.0): 7.489844908795266, (8.5, 6.0): 7.344259281574886, (8.5, 10.0): 1.3549795974388308, (8.5, 4.0): 7.643892564702508, (8.5, 3.0): 6.69890041349067, (8.5, 11.0): 0.876225074260588, (8.5, 9.5): 1.0585870751562605, (8.5, 4.5): 1.9966008005969778, (8.5, 10.5): 3.167894940027008, (8.5, 7.5): 2.855841877447705, (8.5, 6.5): 4.261845880698214, (8.5, 5.5): 2.7583487221383622, (8.5, 3.5): 3.7185995348664047, (10.5, 7.0): 8.859331757680891, (10.5, 9.0): 3.7674274745884624, (10.5, 8.0): 6.689551101444692, (10.5, 5.0): 10.48076435834909, (10.5, 6.0): 10.319082143833166, (10.5, 10.0): 3.420058700044046, (10.5, 4.0): 10.659080359020212, (10.5, 3.0): 9.782835900290934, (10.5, 11.0): 3.193981974516074, (10.5, 9.5): 2.333584691802444, (10.5, 4.5): 5.129889493269033, (10.5, 8.5): 3.167894940027008, (10.5, 7.5): 5.708342857047496, (10.5, 6.5): 7.371746039101795, (10.5, 5.5): 5.831544985994265, (10.5, 3.5): 6.689294523676603, (7.5, 7.0): 3.1519464955057335, (7.5, 9.0): 1.9411266907107323, (7.5, 8.0): 1.0093431863998783, (7.5, 5.0): 4.776713180860081, (7.5, 6.0): 4.612054479765199, (7.5, 10.0): 2.329908043066805, (7.5, 4.0): 4.963510941533999, (7.5, 3.0): 4.168389246279846, (7.5, 11.0): 3.5170926763550567, (7.5, 9.5): 3.383810661004772, (7.5, 4.5): 1.302874569517667, (7.5, 8.5): 2.855841877447705, (7.5, 10.5): 5.708342857047496, (7.5, 6.5): 1.9699756021654726, (7.5, 5.5): 0.8226507369459084, (7.5, 3.5): 1.024272822749644, (6.5, 7.0): 2.044688439121235, (6.5, 9.0): 3.6975240436852372, (6.5, 8.0): 1.5666803313806092, (6.5, 5.0): 3.332810008221592, (6.5, 6.0): 3.2189812567660696, (6.5, 10.0): 4.163953986798232, (6.5, 4.0): 3.4475502577617454, (6.5, 3.0): 2.4412911768959744, (6.5, 11.0): 4.644587733465688, (6.5, 9.5): 5.053564316468355, (6.5, 4.5): 2.2656641411475253, (6.5, 8.5): 4.261845880698214, (6.5, 10.5): 7.371746039101795, (6.5, 7.5): 1.9699756021654726, (6.5, 5.5): 1.5468100419828774, (6.5, 3.5): 1.057909268731453, (5.5, 7.0): 3.218555096214356, (5.5, 9.0): 2.1586754467484215, (5.5, 8.0): 1.4100384601134317, (5.5, 5.0): 4.735136207976137, (5.5, 6.0): 4.5938373287777985, (5.5, 10.0): 2.6385560578999994, (5.5, 4.0): 4.885814053561422, (5.5, 3.0): 3.955206976203132, (5.5, 11.0): 3.2487975908285214, (5.5, 9.5): 3.508393673982846, (5.5, 4.5): 0.8128926096669221, (5.5, 8.5): 2.7583487221383622, (5.5, 10.5): 5.831544985994265, (5.5, 7.5): 0.8226507369459084, (5.5, 6.5): 1.5468100419828774, (5.5, 3.5): 1.0371691824575253, (3.5, 7.0): 2.2164583018720725, (3.5, 9.0): 2.9292927751407483, (3.5, 8.0): 0.5751104048959448, (3.5, 5.0): 3.79575210232034, (3.5, 6.0): 3.6403473914605358, (3.5, 10.0): 3.343826926399637, (3.5, 4.0): 3.9698245248159645, (3.5, 3.0): 3.145057509413864, (3.5, 11.0): 4.268628759159636, (3.5, 9.5): 4.35643247848256, (3.5, 4.5): 1.8447757331634975, (3.5, 8.5): 3.7185995348664047, (3.5, 10.5): 6.689294523676603, (3.5, 7.5): 1.024272822749644, (3.5, 6.5): 1.057909268731453, (3.5, 5.5): 1.0371691824575253}\n"
     ]
    }
   ],
   "source": [
    "X = df.drop('Sleep Duration (Hours)', axis=1).select_dtypes(include=[np.number])  # Use only numerical features\n",
    "y = df['Sleep Duration (Hours)']\n",
    "\n",
    "def calculate_intraclass_interclass(X, y):\n",
    "    classes = y.unique()\n",
    "    class_means = {}\n",
    "    class_spreads = {}\n",
    "\n",
    "    for cls in classes:\n",
    "        class_data = X[y == cls]\n",
    "        class_means[cls] = class_data.mean(axis=0)\n",
    "        class_spreads[cls] = class_data.std(axis=0)\n",
    "\n",
    "    interclass_distances = {}\n",
    "    for cls1 in classes:\n",
    "        for cls2 in classes:\n",
    "            if cls1 != cls2:\n",
    "                distance = np.linalg.norm(class_means[cls1] - class_means[cls2])\n",
    "                interclass_distances[(cls1, cls2)] = distance\n",
    "\n",
    "    return class_means, class_spreads, interclass_distances\n",
    "\n",
    "class_means, class_spreads, interclass_distances = calculate_intraclass_interclass(X, y)\n",
    "print(\"Class Means:\", class_means)\n",
    "print(\"Class Spreads:\", class_spreads)\n",
    "print(\"Interclass Distances:\", interclass_distances)"
   ]
  },
  {
   "cell_type": "code",
   "execution_count": 45,
   "metadata": {
    "colab": {
     "base_uri": "https://localhost:8080/",
     "height": 507
    },
    "id": "BYf6kYnMuacg",
    "outputId": "16ff8a05-667d-4b1e-a29e-87d9e7f5c886"
   },
   "outputs": [
    {
     "data": {
      "image/png": "[encoded data removed]",
      "text/plain": [
       "<Figure size 640x480 with 1 Axes>"
      ]
     },
     "metadata": {},
     "output_type": "display_data"
    },
    {
     "name": "stdout",
     "output_type": "stream",
     "text": [
      "Mean: 62.016292231178184\n",
      "Variance: 114.39297757469356\n"
     ]
    }
   ],
   "source": [
    "import matplotlib.pyplot as plt\n",
    "\n",
    "# Assuming we're using the first feature for the histogram\n",
    "feature_name = features.columns[0]\n",
    "feature = df[feature_name].values\n",
    "\n",
    "# Calculate histogram\n",
    "hist, bins = np.histogram(feature, bins=10)\n",
    "\n",
    "# Plot histogram\n",
    "plt.hist(feature, bins=10, alpha=0.7)\n",
    "plt.title(f'Histogram of {feature_name}')\n",
    "plt.xlabel('Value')\n",
    "plt.ylabel('Frequency')\n",
    "plt.show()\n",
    "\n",
    "# Calculate mean and variance\n",
    "mean = np.mean(feature)\n",
    "variance = np.var(feature)\n",
    "\n",
    "print(f\"Mean: {mean}\")\n",
    "print(f\"Variance: {variance}\")"
   ]
  },
  {
   "cell_type": "code",
   "execution_count": 46,
   "metadata": {
    "colab": {
     "base_uri": "https://localhost:8080/",
     "height": 472
    },
    "id": "HctdM73Suk_U",
    "outputId": "e5749ca7-9b55-4801-d65d-345e78692bba"
   },
   "outputs": [
    {
     "data": {
      "image/png": "[encoded data removed]",
      "text/plain": [
       "<Figure size 640x480 with 1 Axes>"
      ]
     },
     "metadata": {},
     "output_type": "display_data"
    }
   ],
   "source": [
    "def minkowski_distance(x1, x2, r):\n",
    "    return np.linalg.norm(x1 - x2, ord=r)\n",
    "\n",
    "feature_vector_1 = X.iloc[0].values\n",
    "feature_vector_2 = X.iloc[1].values\n",
    "r_values = range(1, 11)\n",
    "distances = [minkowski_distance(feature_vector_1, feature_vector_2, r) for r in r_values]\n",
    "\n",
    "plt.plot(r_values, distances, marker='o')\n",
    "plt.title('Minkowski Distance vs. r')\n",
    "plt.xlabel('r')\n",
    "plt.ylabel('Distance')\n",
    "plt.show()"
   ]
  },
  {
   "cell_type": "code",
   "execution_count": 47,
   "metadata": {
    "id": "RcUIXzCRusTM"
   },
   "outputs": [],
   "source": [
    "from sklearn.model_selection import train_test_split\n",
    "\n",
    "# Split the data into training and testing sets\n",
    "X_train, X_test, y_train, y_test = train_test_split(features_encoded, target, test_size=0.3, random_state=42)"
   ]
  },
  {
   "cell_type": "code",
   "execution_count": 48,
   "metadata": {
    "colab": {
     "base_uri": "https://localhost:8080/",
     "height": 74
    },
    "id": "sy3CB917vhXG",
    "outputId": "391ad08f-e6fa-44ec-c711-8dbbd20a73f1"
   },
   "outputs": [
    {
     "data": {
      "text/html": [
       "<style>#sk-container-id-2 {color: black;}#sk-container-id-2 pre{padding: 0;}#sk-container-id-2 div.sk-toggleable {background-color: white;}#sk-container-id-2 label.sk-toggleable__label {cursor: pointer;display: block;width: 100%;margin-bottom: 0;padding: 0.3em;box-sizing: border-box;text-align: center;}#sk-container-id-2 label.sk-toggleable__label-arrow:before {content: \"▸\";float: left;margin-right: 0.25em;color: #696969;}#sk-container-id-2 label.sk-toggleable__label-arrow:hover:before {color: black;}#sk-container-id-2 div.sk-estimator:hover label.sk-toggleable__label-arrow:before {color: black;}#sk-container-id-2 div.sk-toggleable__content {max-height: 0;max-width: 0;overflow: hidden;text-align: left;background-color: #f0f8ff;}#sk-container-id-2 div.sk-toggleable__content pre {margin: 0.2em;color: black;border-radius: 0.25em;background-color: #f0f8ff;}#sk-container-id-2 input.sk-toggleable__control:checked~div.sk-toggleable__content {max-height: 200px;max-width: 100%;overflow: auto;}#sk-container-id-2 input.sk-toggleable__control:checked~label.sk-toggleable__label-arrow:before {content: \"▾\";}#sk-container-id-2 div.sk-estimator input.sk-toggleable__control:checked~label.sk-toggleable__label {background-color: #d4ebff;}#sk-container-id-2 div.sk-label input.sk-toggleable__control:checked~label.sk-toggleable__label {background-color: #d4ebff;}#sk-container-id-2 input.sk-hidden--visually {border: 0;clip: rect(1px 1px 1px 1px);clip: rect(1px, 1px, 1px, 1px);height: 1px;margin: -1px;overflow: hidden;padding: 0;position: absolute;width: 1px;}#sk-container-id-2 div.sk-estimator {font-family: monospace;background-color: #f0f8ff;border: 1px dotted black;border-radius: 0.25em;box-sizing: border-box;margin-bottom: 0.5em;}#sk-container-id-2 div.sk-estimator:hover {background-color: #d4ebff;}#sk-container-id-2 div.sk-parallel-item::after {content: \"\";width: 100%;border-bottom: 1px solid gray;flex-grow: 1;}#sk-container-id-2 div.sk-label:hover label.sk-toggleable__label {background-color: #d4ebff;}#sk-container-id-2 div.sk-serial::before {content: \"\";position: absolute;border-left: 1px solid gray;box-sizing: border-box;top: 0;bottom: 0;left: 50%;z-index: 0;}#sk-container-id-2 div.sk-serial {display: flex;flex-direction: column;align-items: center;background-color: white;padding-right: 0.2em;padding-left: 0.2em;position: relative;}#sk-container-id-2 div.sk-item {position: relative;z-index: 1;}#sk-container-id-2 div.sk-parallel {display: flex;align-items: stretch;justify-content: center;background-color: white;position: relative;}#sk-container-id-2 div.sk-item::before, #sk-container-id-2 div.sk-parallel-item::before {content: \"\";position: absolute;border-left: 1px solid gray;box-sizing: border-box;top: 0;bottom: 0;left: 50%;z-index: -1;}#sk-container-id-2 div.sk-parallel-item {display: flex;flex-direction: column;z-index: 1;position: relative;background-color: white;}#sk-container-id-2 div.sk-parallel-item:first-child::after {align-self: flex-end;width: 50%;}#sk-container-id-2 div.sk-parallel-item:last-child::after {align-self: flex-start;width: 50%;}#sk-container-id-2 div.sk-parallel-item:only-child::after {width: 0;}#sk-container-id-2 div.sk-dashed-wrapped {border: 1px dashed gray;margin: 0 0.4em 0.5em 0.4em;box-sizing: border-box;padding-bottom: 0.4em;background-color: white;}#sk-container-id-2 div.sk-label label {font-family: monospace;font-weight: bold;display: inline-block;line-height: 1.2em;}#sk-container-id-2 div.sk-label-container {text-align: center;}#sk-container-id-2 div.sk-container {/* jupyter's `normalize.less` sets `[hidden] { display: none; }` but bootstrap.min.css set `[hidden] { display: none !important; }` so we also need the `!important` here to be able to override the default hidden behavior on the sphinx rendered scikit-learn.org. See: https://github.com/scikit-learn/scikit-learn/issues/21755 */display: inline-block !important;position: relative;}#sk-container-id-2 div.sk-text-repr-fallback {display: none;}</style><div id=\"sk-container-id-2\" class=\"sk-top-container\"><div class=\"sk-text-repr-fallback\"><pre>KNeighborsClassifier(n_neighbors=3)</pre><b>In a Jupyter environment, please rerun this cell to show the HTML representation or trust the notebook. <br />On GitHub, the HTML representation is unable to render, please try loading this page with nbviewer.org.</b></div><div class=\"sk-container\" hidden><div class=\"sk-item\"><div class=\"sk-estimator sk-toggleable\"><input class=\"sk-toggleable__control sk-hidden--visually\" id=\"sk-estimator-id-2\" type=\"checkbox\" checked><label for=\"sk-estimator-id-2\" class=\"sk-toggleable__label sk-toggleable__label-arrow\">KNeighborsClassifier</label><div class=\"sk-toggleable__content\"><pre>KNeighborsClassifier(n_neighbors=3)</pre></div></div></div></div></div>"
      ],
      "text/plain": [
       "KNeighborsClassifier(n_neighbors=3)"
      ]
     },
     "execution_count": 48,
     "metadata": {},
     "output_type": "execute_result"
    }
   ],
   "source": [
    "from sklearn.neighbors import KNeighborsClassifier\n",
    "\n",
    "# kNN classifier with k=3\n",
    "knn = KNeighborsClassifier(n_neighbors=3)\n",
    "knn.fit(X_train, y_train)"
   ]
  },
  {
   "cell_type": "code",
   "execution_count": 34,
   "metadata": {
    "colab": {
     "base_uri": "https://localhost:8080/"
    },
    "id": "HH6DTNzkvlKC",
    "outputId": "176a0dee-538d-44cf-ec14-3ca93712ae4f"
   },
   "outputs": [
    {
     "name": "stdout",
     "output_type": "stream",
     "text": [
      "Accuracy: 0.8965714285714286\n"
     ]
    }
   ],
   "source": [
    "# Test accuracy of the kNN classifier\n",
    "accuracy = knn.score(X_test, y_test)\n",
    "print(f\"Accuracy: {accuracy}\")"
   ]
  },
  {
   "cell_type": "code",
   "execution_count": 35,
   "metadata": {
    "colab": {
     "base_uri": "https://localhost:8080/"
    },
    "id": "D0TVndeFwggd",
    "outputId": "15907a41-e465-44fc-c3ae-15fbd1221a49"
   },
   "outputs": [
    {
     "name": "stdout",
     "output_type": "stream",
     "text": [
      "Accuracy: 0.8965714285714286\n"
     ]
    }
   ],
   "source": [
    "# Test accuracy of the kNN classifier\n",
    "accuracy = knn.score(X_test, y_test)\n",
    "print(f\"Accuracy: {accuracy}\")"
   ]
  },
  {
   "cell_type": "code",
   "execution_count": 37,
   "metadata": {
    "colab": {
     "base_uri": "https://localhost:8080/"
    },
    "id": "HEZISnvbwi7E",
    "outputId": "0e8abf1d-5ad9-4156-a3ad-18e0f1cc3ffa"
   },
   "outputs": [
    {
     "name": "stdout",
     "output_type": "stream",
     "text": [
      "Predictions: ['No' 'No' 'No' ... 'No' 'No' 'No']\n",
      "Prediction for first test vector: ['No']\n"
     ]
    },
    {
     "name": "stderr",
     "output_type": "stream",
     "text": [
      "/usr/local/lib/python3.10/dist-packages/sklearn/base.py:465: UserWarning: X does not have valid feature names, but KNeighborsClassifier was fitted with feature names\n",
      "  warnings.warn(\n"
     ]
    }
   ],
   "source": [
    "# Predict on the test set\n",
    "predictions = knn.predict(X_test)\n",
    "print(f\"Predictions: {predictions}\")\n",
    "\n",
    "# Predict a specific test vector (example: first test vector)\n",
    "specific_prediction = knn.predict([X_test.iloc[0]])\n",
    "print(f\"Prediction for first test vector: {specific_prediction}\")"
   ]
  },
  {
   "cell_type": "code",
   "execution_count": 38,
   "metadata": {
    "colab": {
     "base_uri": "https://localhost:8080/",
     "height": 472
    },
    "id": "OV_89urlwlpY",
    "outputId": "3255c98d-7b12-4f9a-8628-ac246a541d03"
   },
   "outputs": [
    {
     "data": {
      "image/png": "[encoded data removed]",
      "text/plain": [
       "<Figure size 640x480 with 1 Axes>"
      ]
     },
     "metadata": {},
     "output_type": "display_data"
    }
   ],
   "source": [
    "accuracies = []\n",
    "k_values = range(1, 12)\n",
    "\n",
    "for k in k_values:\n",
    "    knn = KNeighborsClassifier(n_neighbors=k)\n",
    "    knn.fit(X_train, y_train)\n",
    "    accuracies.append(knn.score(X_test, y_test))\n",
    "\n",
    "# Plot the accuracy against k\n",
    "plt.plot(k_values, accuracies, marker='o')\n",
    "plt.title('Accuracy vs. k in kNN')\n",
    "plt.xlabel('k')\n",
    "plt.ylabel('Accuracy')\n",
    "plt.show()"
   ]
  },
  {
   "cell_type": "code",
   "execution_count": 40,
   "metadata": {
    "colab": {
     "base_uri": "https://localhost:8080/"
    },
    "id": "gibtF5OKw-M_",
    "outputId": "e7d48475-28d9-4224-f645-4046ab689100"
   },
   "outputs": [
    {
     "name": "stdout",
     "output_type": "stream",
     "text": [
      "Confusion Matrix:\n",
      "[[1588    3]\n",
      " [ 155    4]]\n",
      "Precision: 0.5714285714285714\n",
      "Recall: 0.025157232704402517\n",
      "F1-Score: 0.04819277108433735\n"
     ]
    }
   ],
   "source": [
    "from sklearn.metrics import precision_score, recall_score, f1_score, confusion_matrix\n",
    "\n",
    "# Generate predictions\n",
    "y_pred = knn.predict(X_test)\n",
    "\n",
    "# Confusion matrix\n",
    "cm = confusion_matrix(y_test, y_pred)\n",
    "print(f\"Confusion Matrix:\\n{cm}\")\n",
    "\n",
    "# Calculate precision, recall, and F1-score\n",
    "# Specify the positive class label with pos_label\n",
    "precision = precision_score(y_test, y_pred, pos_label='Yes')\n",
    "recall = recall_score(y_test, y_pred, pos_label='Yes')\n",
    "f1 = f1_score(y_test, y_pred, pos_label='Yes')\n",
    "\n",
    "print(f\"Precision: {precision}\")\n",
    "print(f\"Recall: {recall}\")\n",
    "print(f\"F1-Score: {f1}\")\n"
   ]
  },
  {
   "cell_type": "code",
   "execution_count": null,
   "metadata": {
    "id": "b1OfKEnOxDWb"
   },
   "outputs": [],
   "source": []
  }
 ],
 "metadata": {
  "colab": {
   "provenance": []
  },
  "kernelspec": {
   "display_name": "Python 3 (ipykernel)",
   "language": "python",
   "name": "python3"
  },
  "language_info": {
   "codemirror_mode": {
    "name": "ipython",
    "version": 3
   },
   "file_extension": ".py",
   "mimetype": "text/x-python",
   "name": "python",
   "nbconvert_exporter": "python",
   "pygments_lexer": "ipython3",
   "version": "3.11.5"
  }
 },
 "nbformat": 4,
 "nbformat_minor": 1
}
